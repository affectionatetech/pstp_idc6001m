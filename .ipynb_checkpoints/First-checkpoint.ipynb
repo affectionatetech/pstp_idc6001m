{
 "cells": [
  {
   "cell_type": "code",
   "execution_count": 1,
   "id": "14b2a388-2a70-4c17-8a51-0158b70b1a49",
   "metadata": {},
   "outputs": [
    {
     "name": "stdout",
     "output_type": "stream",
     "text": [
      "welcome here\n"
     ]
    }
   ],
   "source": [
    "print(\"welcome here\")"
   ]
  },
  {
   "cell_type": "code",
   "execution_count": 3,
   "id": "6e8630dd-582b-412e-bdc9-574d263730d1",
   "metadata": {},
   "outputs": [
    {
     "name": "stdin",
     "output_type": "stream",
     "text": [
      "please enter your name michael\n"
     ]
    },
    {
     "name": "stdout",
     "output_type": "stream",
     "text": [
      "hi,michael!welcome to the first seminar session\n"
     ]
    }
   ],
   "source": [
    "name=input(\"please enter your name\")\n",
    "print(f\"hi,{name}!welcome to the first seminar session\")"
   ]
  },
  {
   "cell_type": "code",
   "execution_count": null,
   "id": "1081ef66-ed3a-4114-adc4-ade00ba854ba",
   "metadata": {},
   "outputs": [],
   "source": []
  }
 ],
 "metadata": {
  "kernelspec": {
   "display_name": "Python [conda env:base] *",
   "language": "python",
   "name": "conda-base-py"
  },
  "language_info": {
   "codemirror_mode": {
    "name": "ipython",
    "version": 3
   },
   "file_extension": ".py",
   "mimetype": "text/x-python",
   "name": "python",
   "nbconvert_exporter": "python",
   "pygments_lexer": "ipython3",
   "version": "3.13.5"
  }
 },
 "nbformat": 4,
 "nbformat_minor": 5
}
